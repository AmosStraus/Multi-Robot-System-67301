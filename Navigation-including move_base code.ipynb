{
 "cells": [
  {
   "cell_type": "markdown",
   "metadata": {},
   "source": [
    "## Moving the robot around - with a python module\n",
    "\n",
    "As we did last time, we are going to move the robot around with the navigation stack and move_base, but this time using code. "
   ]
  },
  {
   "cell_type": "raw",
   "metadata": {},
   "source": [
    "Pull the updated code from the repo: https://github.com/sarah-keren/turtlebot3_67301 (using the git pull command)"
   ]
  },
  {
   "cell_type": "raw",
   "metadata": {},
   "source": [
    "Set up the environment (the same as we have done so far). Note that you need to run the catkin_make command !"
   ]
  },
  {
   "cell_type": "markdown",
   "metadata": {},
   "source": [
    "Remember that you can add the commands 'source devel/setup.bash' 'export TURTLEBOT3_MODEL=burger' to the bash, so they are executed automatically.\n",
    "Note that you need to run the catkin_make command."
   ]
  },
  {
   "cell_type": "code",
   "execution_count": null,
   "metadata": {},
   "outputs": [],
   "source": [
    "$ cd ~/catkin_ws/\n",
    "$ catkin_make\n",
    "$ source devel/setup.bash\n",
    "$ export TURTLEBOT3_MODEL=burger\n",
    "$ roslaunch turtlebot3_gazebo turtlebot3_house.launch"
   ]
  },
  {
   "cell_type": "markdown",
   "metadata": {},
   "source": [
    "In a new terminal, run the nvigation code."
   ]
  },
  {
   "cell_type": "code",
   "execution_count": null,
   "metadata": {},
   "outputs": [],
   "source": [
    "$ cd ~/catkin_ws/\n",
    "$ source devel/setup.bash\n",
    "$ export TURTLEBOT3_MODEL=burger\n",
    "$ roslaunch turtlebot3_navigation turtlebot3_navigation.launch map_file:=$HOME/catkin_ws/src/turtlebot3_67301/maps/house_map.yaml"
   ]
  },
  {
   "cell_type": "markdown",
   "metadata": {},
   "source": [
    "Open the rviz window by clicking the small computer icon on the bottom left. In order to run the robot, we will now use a python module, that includes the needed code. "
   ]
  },
  {
   "cell_type": "code",
   "execution_count": null,
   "metadata": {},
   "outputs": [],
   "source": [
    "$ cd ~/catkin_ws/\n",
    "$ source devel/setup.bash\n",
    "$ export TURTLEBOT3_MODEL=burger\n",
    "$ rosrun turtlebot3_67301 move_base.py"
   ]
  },
  {
   "cell_type": "markdown",
   "metadata": {},
   "source": [
    "See the robot move and try to figure out what is going on in the code. \n",
    "Don't forget to run the rqt_graph to better understand what's going on."
   ]
  },
  {
   "cell_type": "code",
   "execution_count": null,
   "metadata": {},
   "outputs": [],
   "source": [
    "$ rosrun rqt_graph rqt_graph"
   ]
  }
 ],
 "metadata": {
  "kernelspec": {
   "display_name": "Python 2",
   "language": "python",
   "name": "python2"
  },
  "language_info": {
   "codemirror_mode": {
    "name": "ipython",
    "version": 2
   },
   "file_extension": ".py",
   "mimetype": "text/x-python",
   "name": "python",
   "nbconvert_exporter": "python",
   "pygments_lexer": "ipython2",
   "version": "2.7.16"
  }
 },
 "nbformat": 4,
 "nbformat_minor": 1
}
